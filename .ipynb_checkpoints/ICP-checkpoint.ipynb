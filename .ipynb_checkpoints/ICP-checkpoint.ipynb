{
 "cells": [
  {
   "cell_type": "code",
   "execution_count": 1,
   "id": "1977675c-472d-4aac-a7b4-146ab6ab965e",
   "metadata": {},
   "outputs": [],
   "source": [
    "import os\n",
    "import cv2\n",
    "import numpy as np\n",
    "import matplotlib.pyplot as plt\n",
    "from sklearn.neighbors import NearestNeighbors\n",
    "import hyperspy.api as hs\n",
    "from numba import njit\n",
    "from numba import jit\n",
    "from numba import prange\n",
    "import time"
   ]
  },
  {
   "cell_type": "code",
   "execution_count": 2,
   "id": "1757d95a-7396-4b02-b0fe-f66023b986ff",
   "metadata": {},
   "outputs": [],
   "source": [
    "def icp(src,dest, Tr, no_iterations = 13):    \n",
    "\n",
    "    #Initialise with the initial pose estimation\n",
    "    \n",
    "    src = cv2.transform(src, Tr[0:2])\n",
    "\n",
    "    for i in range(no_iterations):\n",
    "        #Find the nearest neighbours between the current source and the\n",
    "        #destination cloudpoint\n",
    "        nbrs = NearestNeighbors(n_neighbors=1, algorithm='auto').fit(dst[0])\n",
    "        distances, indices = nbrs.kneighbors(src[0])\n",
    "\n",
    "        #Compute the transformation between the current source\n",
    "        #and destination cloudpoint\n",
    "        T,inliners = cv2.estimateAffinePartial2D(src, dst[0, indices.T],confidence= 0.99,ransacReprojThreshold=3,refineIters=10000)\n",
    "        #Transform the previous source and update the\n",
    "        #current source cloudpoint\n",
    "        src = cv2.transform(src, T)\n",
    "        #Save the transformation from the actual source cloudpoint\n",
    "        #to the destination\n",
    "        Tr = np.dot(Tr, np.vstack((T,[0,0,1])))\n",
    "    return Tr[0:2]"
   ]
  },
  {
   "cell_type": "code",
   "execution_count": 3,
   "id": "2ffcc6da-0c25-40f7-b28d-cf405d88a068",
   "metadata": {},
   "outputs": [
    {
     "ename": "NameError",
     "evalue": "name 'src' is not defined",
     "output_type": "error",
     "traceback": [
      "\u001b[1;31m---------------------------------------------------------------------------\u001b[0m",
      "\u001b[1;31mNameError\u001b[0m                                 Traceback (most recent call last)",
      "Cell \u001b[1;32mIn[3], line 9\u001b[0m\n\u001b[0;32m      6\u001b[0m b \u001b[38;5;241m=\u001b[39m np\u001b[38;5;241m.\u001b[39mdot(rot, a) \u001b[38;5;241m+\u001b[39m np\u001b[38;5;241m.\u001b[39marray([[\u001b[38;5;241m0.2\u001b[39m], [\u001b[38;5;241m0.3\u001b[39m]])\n\u001b[0;32m      8\u001b[0m \u001b[38;5;66;03m#Run the icp\u001b[39;00m\n\u001b[1;32m----> 9\u001b[0m M2 \u001b[38;5;241m=\u001b[39m icp(\u001b[43msrc\u001b[49m,dest,np\u001b[38;5;241m.\u001b[39marray([[\u001b[38;5;241m0.14231484\u001b[39m,\u001b[38;5;241m-\u001b[39m\u001b[38;5;241m0.98982144\u001b[39m,\u001b[38;5;241m0.1\u001b[39m],[\u001b[38;5;241m0.98982144\u001b[39m,\u001b[38;5;241m0.14231484\u001b[39m,\u001b[38;5;241m0.33\u001b[39m]]), \u001b[38;5;241m100\u001b[39m)\n\u001b[0;32m     11\u001b[0m \u001b[38;5;66;03m#Plot the result\u001b[39;00m\n\u001b[0;32m     12\u001b[0m src \u001b[38;5;241m=\u001b[39m np\u001b[38;5;241m.\u001b[39marray([a\u001b[38;5;241m.\u001b[39mT])\u001b[38;5;241m.\u001b[39mastype(np\u001b[38;5;241m.\u001b[39mfloat32)\n",
      "\u001b[1;31mNameError\u001b[0m: name 'src' is not defined"
     ]
    }
   ],
   "source": [
    "#Create the datasets\n",
    "ang = np.linspace(-np.pi/2, np.pi/2, 320)\n",
    "a = np.array([ang, np.sin(ang)])\n",
    "th = np.pi/2\n",
    "rot = np.array([[np.cos(th), -np.sin(th)],[np.sin(th), np.cos(th)]])\n",
    "b = np.dot(rot, a) + np.array([[0.2], [0.3]])\n",
    "\n",
    "#Run the icp\n",
    "M2 = icp(src,dest,np.array([[0.14231484,-0.98982144,0.1],[0.98982144,0.14231484,0.33]]), 100)\n",
    "\n",
    "#Plot the result\n",
    "src = np.array([a.T]).astype(np.float32)\n",
    "res = cv2.transform(src, M2)\n",
    "plt.figure()\n",
    "plt.plot(b[0],b[1])\n",
    "plt.plot(res[0].T[0], res[0].T[1], 'r.')\n",
    "plt.plot(a[0], a[1])\n",
    "plt.show()"
   ]
  },
  {
   "cell_type": "code",
   "execution_count": 5,
   "id": "c0c17a57-a6c4-4c5d-a413-4bd60d073217",
   "metadata": {},
   "outputs": [],
   "source": [
    "img0 = np.load(r\"C:\\Users\\tas72\\Documents\\PhD\\dg606\\20230624\\Stitching_and_corr\\test\\20230624_101320_vbf.npy\")[:,:]"
   ]
  },
  {
   "cell_type": "code",
   "execution_count": 6,
   "id": "a8db447c-c551-4823-85aa-bd0aec6f8d96",
   "metadata": {},
   "outputs": [],
   "source": [
    "img1 = np.load(r\"C:\\Users\\tas72\\Documents\\PhD\\dg606\\20230624\\Stitching_and_corr\\test\\20230624_100824_vbf.npy\")[:,:]"
   ]
  },
  {
   "cell_type": "code",
   "execution_count": 30,
   "id": "4b4d01f8-ede8-4c5b-ae2b-c99c34218e31",
   "metadata": {},
   "outputs": [],
   "source": [
    "s0 = hs.signals.Signal2D(img0).as_lazy(True)"
   ]
  },
  {
   "cell_type": "code",
   "execution_count": 31,
   "id": "8f90dc38-8afc-4139-9a65-ab5d776cff4b",
   "metadata": {},
   "outputs": [],
   "source": [
    "s1 = hs.signals.Signal2D(img1).as_lazy(True)"
   ]
  },
  {
   "cell_type": "code",
   "execution_count": 7,
   "id": "1b986788-1609-44ab-bb88-b2fc102b228d",
   "metadata": {},
   "outputs": [],
   "source": [
    "def xyz_from_arr(arr):\n",
    "    xyz = np.zeros((np.shape(arr)[0]*np.shape(arr)[1], 3))\n",
    "    for i in range(np.shape(arr)[0]):\n",
    "        for j in range(np.shape(arr)[1]):\n",
    "            xyz[i*np.shape(arr)[0]+j] = i,j,arr[i,j]\n",
    "    return xyz"
   ]
  },
  {
   "cell_type": "code",
   "execution_count": 8,
   "id": "174babbf-ace3-4d57-bfb0-be6d3ee60865",
   "metadata": {},
   "outputs": [],
   "source": [
    "xyz0 = xyz_from_arr(img0)\n",
    "xyz1 = xyz_from_arr(img1) "
   ]
  },
  {
   "cell_type": "code",
   "execution_count": 35,
   "id": "2c378643-663d-4e58-a087-2e6552799276",
   "metadata": {},
   "outputs": [],
   "source": [
    "xyz0 = s0.map(xyz_from_arr, parallel=True,inplace=False, lazy_output=True)\n",
    "xyz1 = s1.map(xyz_from_arr, parallel=True,inplace=False, lazy_output=True)"
   ]
  },
  {
   "cell_type": "code",
   "execution_count": 36,
   "id": "e9dbaf52-13c5-48b9-ac16-9f59ec17b5b7",
   "metadata": {},
   "outputs": [],
   "source": [
    "xyz0.rechunk(nav_chunks='auto', sig_chunks=1000, inplace=True)\n",
    "xyz1.rechunk(nav_chunks='auto', sig_chunks=1000, inplace=True)"
   ]
  },
  {
   "cell_type": "code",
   "execution_count": 6,
   "id": "d3eddc4d-8b2a-4023-b57c-b2f2a867f68f",
   "metadata": {},
   "outputs": [
    {
     "data": {
      "text/plain": [
       "262144"
      ]
     },
     "execution_count": 6,
     "metadata": {},
     "output_type": "execute_result"
    }
   ],
   "source": [
    "len(xyz0.data)"
   ]
  },
  {
   "cell_type": "code",
   "execution_count": 9,
   "id": "f6aef480-7254-4b60-8cf1-e03c7cf62dc0",
   "metadata": {},
   "outputs": [],
   "source": [
    "@jit(nopython=True,parallel=True)\n",
    "def nearest_neighbor(src, dst):\n",
    "    # dist = np.linalg.norm(src[:, None] - dst, axis=-1)\n",
    "    indicies = np.zeros(len(src))\n",
    "    for i in prange(len(src)):\n",
    "        src_point = src[i]\n",
    "        distances = np.sqrt(((src_point[0]-dst[:,0])**2)+((src_point[1]-dst[:,1]))**2+((src_point[2]-dst[:,2])**2))\n",
    "        indicies[i] = np.argmin(distances)\n",
    "    return indicies\n",
    "#dist, ind = nearest_neighbor(xyz0, xyz1)"
   ]
  },
  {
   "cell_type": "code",
   "execution_count": 13,
   "id": "94309ca3-2ebe-4f75-92f6-07b2eddeecaa",
   "metadata": {},
   "outputs": [],
   "source": [
    "t0 = time.time()\n",
    "indicies= nearest_neighbor(xyz0,xyz1)\n",
    "t1 = time.time()"
   ]
  },
  {
   "cell_type": "code",
   "execution_count": 15,
   "id": "c503f779-a506-4a94-bff7-02fedd4ecaf2",
   "metadata": {},
   "outputs": [
    {
     "data": {
      "text/plain": [
       "array([  4619.,   5134.,   1025., ..., 258470., 259495., 260519.])"
      ]
     },
     "execution_count": 15,
     "metadata": {},
     "output_type": "execute_result"
    }
   ],
   "source": [
    "indicies"
   ]
  },
  {
   "cell_type": "code",
   "execution_count": 22,
   "id": "f545068b-9621-41cd-b9f0-99d07694278a",
   "metadata": {
    "tags": []
   },
   "outputs": [],
   "source": [
    "sum_change_x = 0\n",
    "sum_change_y = 0\n",
    "for i,point in enumerate(indicies):\n",
    "    change = xyz0[i]-xyz1[int(point)]\n",
    "    sum_change_x += change[0]\n",
    "    sum_change_y += change[1]"
   ]
  },
  {
   "cell_type": "code",
   "execution_count": 24,
   "id": "7d3ebc88-270f-4491-b65d-37c8a7bc62e2",
   "metadata": {},
   "outputs": [
    {
     "data": {
      "text/plain": [
       "1.3495903015136719"
      ]
     },
     "execution_count": 24,
     "metadata": {},
     "output_type": "execute_result"
    }
   ],
   "source": [
    "sum_change_x/len(indicies)"
   ]
  },
  {
   "cell_type": "code",
   "execution_count": 25,
   "id": "0062ca7c-3a58-4713-b8e8-bac68c78ac7e",
   "metadata": {},
   "outputs": [
    {
     "data": {
      "text/plain": [
       "-0.1382293701171875"
      ]
     },
     "execution_count": 25,
     "metadata": {},
     "output_type": "execute_result"
    }
   ],
   "source": [
    "sum_change_y/len(indicies)"
   ]
  },
  {
   "cell_type": "code",
   "execution_count": null,
   "id": "7e241418-cb51-47b6-8e11-de6967279162",
   "metadata": {},
   "outputs": [],
   "source": []
  },
  {
   "cell_type": "code",
   "execution_count": null,
   "id": "18aa91fe-d26a-40e5-a85a-4282cac352c7",
   "metadata": {},
   "outputs": [],
   "source": []
  },
  {
   "cell_type": "code",
   "execution_count": null,
   "id": "baff55fc-86d6-4e2b-a90d-324357470a78",
   "metadata": {},
   "outputs": [],
   "source": []
  },
  {
   "cell_type": "code",
   "execution_count": 81,
   "id": "dcd081ea-de03-48a2-b221-d66f8529888e",
   "metadata": {},
   "outputs": [],
   "source": [
    "X = np.array([[0, 2,3], [1, 2,5], [1, 2,1], [1,0, 1], [2,2, 1], [2,1, 2]])\n",
    "nbrs = NearestNeighbors(n_neighbors=2, algorithm='brute',metric='euclidean').fit(X)\n",
    "distances, indices = nbrs.kneighbors(X)"
   ]
  },
  {
   "cell_type": "code",
   "execution_count": 82,
   "id": "dbb2ecd0-6bb8-443a-95a0-4dbf41e558ab",
   "metadata": {},
   "outputs": [
    {
     "name": "stdout",
     "output_type": "stream",
     "text": [
      "[0 2 3]\n",
      "[1 2 5]\n",
      "[1 2 1]\n",
      "[1 0 1]\n",
      "[2 2 1]\n",
      "[2 1 2]\n"
     ]
    }
   ],
   "source": [
    "img = np.zeros((3,3))\n",
    "for point in X:\n",
    "    print(point)\n",
    "    img[point[0],point[1]] = point[2]"
   ]
  },
  {
   "cell_type": "code",
   "execution_count": 51,
   "id": "b03bf741-cb4b-44c7-9a76-f79726c1ec08",
   "metadata": {},
   "outputs": [
    {
     "data": {
      "text/plain": [
       "<matplotlib.image.AxesImage at 0x242b44de940>"
      ]
     },
     "execution_count": 51,
     "metadata": {},
     "output_type": "execute_result"
    },
    {
     "data": {
      "image/png": "[encoded data removed]",
      "text/plain": [
       "<Figure size 432x288 with 1 Axes>"
      ]
     },
     "metadata": {
      "needs_background": "light"
     },
     "output_type": "display_data"
    }
   ],
   "source": [
    "fig,ax = plt.subplots()\n",
    "ax.imshow(img)"
   ]
  },
  {
   "cell_type": "code",
   "execution_count": 32,
   "id": "5107c0cd-001b-41f9-94b7-d6e2a7767ede",
   "metadata": {},
   "outputs": [
    {
     "data": {
      "text/plain": [
       "3.1622776601683795"
      ]
     },
     "execution_count": 32,
     "metadata": {},
     "output_type": "execute_result"
    }
   ],
   "source": [
    "p0, p1 = 0,1\n",
    "np.sqrt((X[p0][0]-X[p1][0])**2+(X[p0][1]-X[p1][1])**2+(X[p0][2]-X[p1][2])**2)"
   ]
  },
  {
   "cell_type": "code",
   "execution_count": 47,
   "id": "98b8d01a-d821-42bd-ba7b-02bb75af8def",
   "metadata": {},
   "outputs": [
    {
     "data": {
      "text/plain": [
       "array([[0, 1],\n",
       "       [1, 0],\n",
       "       [2, 4],\n",
       "       [3, 5],\n",
       "       [4, 2],\n",
       "       [5, 4]], dtype=int64)"
      ]
     },
     "execution_count": 47,
     "metadata": {},
     "output_type": "execute_result"
    }
   ],
   "source": [
    "indices"
   ]
  },
  {
   "cell_type": "code",
   "execution_count": 48,
   "id": "c2042bae-685f-42d2-9d44-5822efd0c54f",
   "metadata": {},
   "outputs": [
    {
     "name": "stdout",
     "output_type": "stream",
     "text": [
      "[0 1]\n",
      "[0 2 3] [1 2 5]\n",
      "[1 0]\n",
      "[1 2 5] [0 2 3]\n",
      "[2 4]\n",
      "[1 2 1] [2 2 1]\n",
      "[3 5]\n",
      "[1 0 1] [2 1 2]\n",
      "[4 2]\n",
      "[2 2 1] [1 2 1]\n",
      "[5 4]\n",
      "[2 1 2] [2 2 1]\n"
     ]
    }
   ],
   "source": [
    "sum_x_displacement = 0\n",
    "sum_y_displacement = 0\n",
    "for point_pair in indices:\n",
    "    p0 = X[point_pair[0]]\n",
    "    p1 = X[point_pair[1]]\n",
    "    x_displacement = p1[0]-p0[0]\n",
    "    y_displacement = p1[1]-p0[1]\n",
    "    sum_x_displacement += x_displacement\n",
    "    sum_y_displacement += y_displacement"
   ]
  },
  {
   "cell_type": "code",
   "execution_count": null,
   "id": "957919ea-4554-4990-8455-bb6741922289",
   "metadata": {},
   "outputs": [],
   "source": []
  }
 ],
 "metadata": {
  "kernelspec": {
   "display_name": "Python 3 (ipykernel)",
   "language": "python",
   "name": "python3"
  },
  "language_info": {
   "codemirror_mode": {
    "name": "ipython",
    "version": 3
   },
   "file_extension": ".py",
   "mimetype": "text/x-python",
   "name": "python",
   "nbconvert_exporter": "python",
   "pygments_lexer": "ipython3",
   "version": "3.11.4"
  }
 },
 "nbformat": 4,
 "nbformat_minor": 5
}
