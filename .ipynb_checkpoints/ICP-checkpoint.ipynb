{
 "cells": [
  {
   "cell_type": "code",
   "execution_count": 4,
   "id": "1977675c-472d-4aac-a7b4-146ab6ab965e",
   "metadata": {},
   "outputs": [],
   "source": [
    "import cv2\n",
    "import numpy as np\n",
    "import matplotlib.pyplot as plt\n",
    "from sklearn.neighbors import NearestNeighbors"
   ]
  },
  {
   "cell_type": "code",
   "execution_count": 19,
   "id": "1757d95a-7396-4b02-b0fe-f66023b986ff",
   "metadata": {},
   "outputs": [],
   "source": [
    "def icp(src,dest, Tr, no_iterations = 13):    \n",
    "\n",
    "    #Initialise with the initial pose estimation\n",
    "    \n",
    "    src = cv2.transform(src, Tr[0:2])\n",
    "\n",
    "    for i in range(no_iterations):\n",
    "        #Find the nearest neighbours between the current source and the\n",
    "        #destination cloudpoint\n",
    "        nbrs = NearestNeighbors(n_neighbors=1, algorithm='auto').fit(dst[0])\n",
    "        distances, indices = nbrs.kneighbors(src[0])\n",
    "\n",
    "        #Compute the transformation between the current source\n",
    "        #and destination cloudpoint\n",
    "        T,inliners = cv2.estimateAffinePartial2D(src, dst[0, indices.T],confidence= 0.99,ransacReprojThreshold=3,refineIters=10000)\n",
    "        #Transform the previous source and update the\n",
    "        #current source cloudpoint\n",
    "        src = cv2.transform(src, T)\n",
    "        #Save the transformation from the actual source cloudpoint\n",
    "        #to the destination\n",
    "        Tr = np.dot(Tr, np.vstack((T,[0,0,1])))\n",
    "    return Tr[0:2]"
   ]
  },
  {
   "cell_type": "code",
   "execution_count": 23,
   "id": "2ffcc6da-0c25-40f7-b28d-cf405d88a068",
   "metadata": {},
   "outputs": [
    {
     "ename": "AttributeError",
     "evalue": "'int' object has no attribute 'T'",
     "output_type": "error",
     "traceback": [
      "\u001b[1;31m---------------------------------------------------------------------------\u001b[0m",
      "\u001b[1;31mAttributeError\u001b[0m                            Traceback (most recent call last)",
      "Cell \u001b[1;32mIn[23], line 9\u001b[0m\n\u001b[0;32m      6\u001b[0m b \u001b[38;5;241m=\u001b[39m np\u001b[38;5;241m.\u001b[39mdot(rot, a) \u001b[38;5;241m+\u001b[39m np\u001b[38;5;241m.\u001b[39marray([[\u001b[38;5;241m0.2\u001b[39m], [\u001b[38;5;241m0.3\u001b[39m]])\n\u001b[0;32m      8\u001b[0m \u001b[38;5;66;03m#Run the icp\u001b[39;00m\n\u001b[1;32m----> 9\u001b[0m M2 \u001b[38;5;241m=\u001b[39m \u001b[43micp\u001b[49m\u001b[43m(\u001b[49m\u001b[43mnp\u001b[49m\u001b[38;5;241;43m.\u001b[39;49m\u001b[43marray\u001b[49m\u001b[43m(\u001b[49m\u001b[43m[\u001b[49m\u001b[43m[\u001b[49m\u001b[38;5;241;43m0.14231484\u001b[39;49m\u001b[43m,\u001b[49m\u001b[38;5;241;43m-\u001b[39;49m\u001b[38;5;241;43m0.98982144\u001b[39;49m\u001b[43m,\u001b[49m\u001b[38;5;241;43m0.1\u001b[39;49m\u001b[43m]\u001b[49m\u001b[43m,\u001b[49m\u001b[43m[\u001b[49m\u001b[38;5;241;43m0.98982144\u001b[39;49m\u001b[43m,\u001b[49m\u001b[38;5;241;43m0.14231484\u001b[39;49m\u001b[43m,\u001b[49m\u001b[38;5;241;43m0.33\u001b[39;49m\u001b[43m]\u001b[49m\u001b[43m]\u001b[49m\u001b[43m)\u001b[49m\u001b[43m,\u001b[49m\u001b[43m \u001b[49m\u001b[38;5;241;43m100\u001b[39;49m\u001b[43m)\u001b[49m\n\u001b[0;32m     11\u001b[0m \u001b[38;5;66;03m#Plot the result\u001b[39;00m\n\u001b[0;32m     12\u001b[0m src \u001b[38;5;241m=\u001b[39m np\u001b[38;5;241m.\u001b[39marray([a\u001b[38;5;241m.\u001b[39mT])\u001b[38;5;241m.\u001b[39mastype(np\u001b[38;5;241m.\u001b[39mfloat32)\n",
      "Cell \u001b[1;32mIn[19], line 18\u001b[0m, in \u001b[0;36micp\u001b[1;34m(a, b, init_pose, no_iterations)\u001b[0m\n\u001b[0;32m      2\u001b[0m \u001b[38;5;250m\u001b[39m\u001b[38;5;124;03m'''\u001b[39;00m\n\u001b[0;32m      3\u001b[0m \u001b[38;5;124;03mThe Iterative Closest Point estimator.\u001b[39;00m\n\u001b[0;32m      4\u001b[0m \u001b[38;5;124;03mTakes two cloudpoints a[x,y], b[x,y], an initial estimation of\u001b[39;00m\n\u001b[1;32m   (...)\u001b[0m\n\u001b[0;32m     14\u001b[0m \u001b[38;5;124;03m    produces worse results.\u001b[39;00m\n\u001b[0;32m     15\u001b[0m \u001b[38;5;124;03m'''\u001b[39;00m\n\u001b[0;32m     17\u001b[0m src \u001b[38;5;241m=\u001b[39m np\u001b[38;5;241m.\u001b[39marray([a\u001b[38;5;241m.\u001b[39mT], copy\u001b[38;5;241m=\u001b[39m\u001b[38;5;28;01mTrue\u001b[39;00m)\u001b[38;5;241m.\u001b[39mastype(np\u001b[38;5;241m.\u001b[39mfloat32)\n\u001b[1;32m---> 18\u001b[0m dst \u001b[38;5;241m=\u001b[39m np\u001b[38;5;241m.\u001b[39marray([\u001b[43mb\u001b[49m\u001b[38;5;241;43m.\u001b[39;49m\u001b[43mT\u001b[49m], copy\u001b[38;5;241m=\u001b[39m\u001b[38;5;28;01mTrue\u001b[39;00m)\u001b[38;5;241m.\u001b[39mastype(np\u001b[38;5;241m.\u001b[39mfloat32)\n\u001b[0;32m     20\u001b[0m \u001b[38;5;66;03m#Initialise with the initial pose estimation\u001b[39;00m\n\u001b[0;32m     21\u001b[0m Tr \u001b[38;5;241m=\u001b[39m np\u001b[38;5;241m.\u001b[39marray([[np\u001b[38;5;241m.\u001b[39mcos(init_pose[\u001b[38;5;241m2\u001b[39m]),\u001b[38;5;241m-\u001b[39mnp\u001b[38;5;241m.\u001b[39msin(init_pose[\u001b[38;5;241m2\u001b[39m]),init_pose[\u001b[38;5;241m0\u001b[39m]],\n\u001b[0;32m     22\u001b[0m                [np\u001b[38;5;241m.\u001b[39msin(init_pose[\u001b[38;5;241m2\u001b[39m]), np\u001b[38;5;241m.\u001b[39mcos(init_pose[\u001b[38;5;241m2\u001b[39m]),init_pose[\u001b[38;5;241m1\u001b[39m]],\n\u001b[0;32m     23\u001b[0m                [\u001b[38;5;241m0\u001b[39m,                    \u001b[38;5;241m0\u001b[39m,                   \u001b[38;5;241m1\u001b[39m          ]])\n",
      "\u001b[1;31mAttributeError\u001b[0m: 'int' object has no attribute 'T'"
     ]
    }
   ],
   "source": [
    "#Create the datasets\n",
    "ang = np.linspace(-np.pi/2, np.pi/2, 320)\n",
    "a = np.array([ang, np.sin(ang)])\n",
    "th = np.pi/2\n",
    "rot = np.array([[np.cos(th), -np.sin(th)],[np.sin(th), np.cos(th)]])\n",
    "b = np.dot(rot, a) + np.array([[0.2], [0.3]])\n",
    "\n",
    "#Run the icp\n",
    "M2 = icp(src,dest,np.array([[0.14231484,-0.98982144,0.1],[0.98982144,0.14231484,0.33]]), 100)\n",
    "\n",
    "#Plot the result\n",
    "src = np.array([a.T]).astype(np.float32)\n",
    "res = cv2.transform(src, M2)\n",
    "plt.figure()\n",
    "plt.plot(b[0],b[1])\n",
    "plt.plot(res[0].T[0], res[0].T[1], 'r.')\n",
    "plt.plot(a[0], a[1])\n",
    "plt.show()"
   ]
  },
  {
   "cell_type": "code",
   "execution_count": null,
   "id": "9624015d-8423-4725-b58f-dfc2ef1f8c10",
   "metadata": {},
   "outputs": [],
   "source": []
  }
 ],
 "metadata": {
  "kernelspec": {
   "display_name": "Python 3 (ipykernel)",
   "language": "python",
   "name": "python3"
  },
  "language_info": {
   "codemirror_mode": {
    "name": "ipython",
    "version": 3
   },
   "file_extension": ".py",
   "mimetype": "text/x-python",
   "name": "python",
   "nbconvert_exporter": "python",
   "pygments_lexer": "ipython3",
   "version": "3.11.4"
  }
 },
 "nbformat": 4,
 "nbformat_minor": 5
}
