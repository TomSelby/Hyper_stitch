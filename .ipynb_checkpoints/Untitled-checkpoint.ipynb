{
 "cells": [
  {
   "cell_type": "code",
   "execution_count": 9,
   "id": "6e87cd56-f3ec-40ea-9177-0ed3f145280a",
   "metadata": {},
   "outputs": [],
   "source": [
    "import matplotlib.pyplot as plt\n",
    "%matplotlib qt5"
   ]
  },
  {
   "cell_type": "code",
   "execution_count": 18,
   "id": "49f4239d-9433-4c3f-ad60-e2905854d06f",
   "metadata": {},
   "outputs": [
    {
     "name": "stdout",
     "output_type": "stream",
     "text": [
      "button_press_event: xy=(194, 249) xydata=(14.173870967741934, 14.95) button=1 dblclick=False inaxes=AxesSubplot(0.125,0.11;0.352273x0.77)\n",
      "[14.173870967741934, 14.95]\n",
      "button_press_event: xy=(606, 237) xydata=(None, None) button=1 dblclick=False inaxes=None\n",
      "[None, None]\n",
      "button_press_event: xy=(461, 244) xydata=(145.69556451612902, 154.67619047619047) button=1 dblclick=False inaxes=AxesSubplot(0.547727,0.11;0.352273x0.77)\n",
      "[145.69556451612902, 154.67619047619047]\n",
      "button_press_event: xy=(110, 285) xydata=(2.6983870967741925, 17.95) button=1 dblclick=False inaxes=AxesSubplot(0.125,0.11;0.352273x0.77)\n",
      "[2.6983870967741925, 17.95]\n",
      "button_press_event: xy=(110, 285) xydata=(2.6983870967741925, 17.95) button=1 dblclick=True inaxes=AxesSubplot(0.125,0.11;0.352273x0.77)\n",
      "[2.6983870967741925, 17.95]\n",
      "button_press_event: xy=(110, 285) xydata=(2.6983870967741925, 17.95) button=1 dblclick=False inaxes=AxesSubplot(0.125,0.11;0.352273x0.77)\n",
      "[2.6983870967741925, 17.95]\n"
     ]
    }
   ],
   "source": [
    "def onclick(event):\n",
    "    print(event)\n",
    "    print([event.xdata, event.ydata])\n",
    "fig,ax = plt.subplots(1,2)\n",
    "ax[0].plot([x for x in range(29)])\n",
    "ax[1].plot([s for s in range(299)])\n",
    "fig.canvas.mpl_connect('button_press_event', onclick)\n",
    "plt.show()"
   ]
  },
  {
   "cell_type": "code",
   "execution_count": null,
   "id": "7091a635-b96f-42ba-bf03-8ab7b174df6e",
   "metadata": {},
   "outputs": [],
   "source": []
  }
 ],
 "metadata": {
  "kernelspec": {
   "display_name": "Python 3 (ipykernel)",
   "language": "python",
   "name": "python3"
  },
  "language_info": {
   "codemirror_mode": {
    "name": "ipython",
    "version": 3
   },
   "file_extension": ".py",
   "mimetype": "text/x-python",
   "name": "python",
   "nbconvert_exporter": "python",
   "pygments_lexer": "ipython3",
   "version": "3.9.12"
  }
 },
 "nbformat": 4,
 "nbformat_minor": 5
}
